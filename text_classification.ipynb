{
  "metadata": {
    "kernelspec": {
      "language": "python",
      "display_name": "Python 3",
      "name": "python3"
    },
    "language_info": {
      "name": "python",
      "version": "3.10.12",
      "mimetype": "text/x-python",
      "codemirror_mode": {
        "name": "ipython",
        "version": 3
      },
      "pygments_lexer": "ipython3",
      "nbconvert_exporter": "python",
      "file_extension": ".py"
    },
    "colab": {
      "provenance": []
    }
  },
  "nbformat_minor": 0,
  "nbformat": 4,
  "cells": [
    {
      "cell_type": "code",
      "source": [
        "#import required tools\n",
        "import pandas as pd\n",
        "import numpy as np\n",
        "import matplotlib.pyplot as plt\n",
        "import tensorflow as tf"
      ],
      "metadata": {
        "_uuid": "8f2839f25d086af736a60e9eeb907d3b93b6e0e5",
        "_cell_guid": "b1076dfc-b9ad-4769-8c92-a6c4dae69d19",
        "execution": {
          "iopub.status.busy": "2023-10-26T09:06:44.086755Z",
          "iopub.execute_input": "2023-10-26T09:06:44.087130Z",
          "iopub.status.idle": "2023-10-26T09:06:52.384638Z",
          "shell.execute_reply.started": "2023-10-26T09:06:44.087099Z",
          "shell.execute_reply": "2023-10-26T09:06:52.383753Z"
        },
        "trusted": true,
        "id": "HC19q-kyTxcQ"
      },
      "execution_count": 1,
      "outputs": []
    },
    {
      "cell_type": "markdown",
      "source": [
        "**LOAD DATA, PERFORM EXPLORATORY DATA ANALYSIS, PREPROCESS AND CLEAN THE DATA**"
      ],
      "metadata": {
        "id": "cHhbdK2PTxcS"
      }
    },
    {
      "cell_type": "code",
      "source": [
        "df = pd.read_csv('/content/Independent_Medical_Review__IMR__Determinations__Trend.csv')\n",
        "df.sample(n = 3)"
      ],
      "metadata": {
        "execution": {
          "iopub.status.busy": "2023-10-26T09:06:52.386177Z",
          "iopub.execute_input": "2023-10-26T09:06:52.386783Z",
          "iopub.status.idle": "2023-10-26T09:06:53.211066Z",
          "shell.execute_reply.started": "2023-10-26T09:06:52.386756Z",
          "shell.execute_reply": "2023-10-26T09:06:53.210082Z"
        },
        "trusted": true,
        "colab": {
          "base_uri": "https://localhost:8080/",
          "height": 213
        },
        "id": "fp_T_NSaTxcT",
        "outputId": "982bb6c3-92df-42f4-8d5e-f7ba5315f5fe"
      },
      "execution_count": 5,
      "outputs": [
        {
          "output_type": "execute_result",
          "data": {
            "text/plain": [
              "      Reference ID  Report Year Diagnosis Category Diagnosis Sub Category  \\\n",
              "5424    MN13-15433         2013             Mental    Depression - Severe   \n",
              "3881    MN14-18910         2014             Mental                  Other   \n",
              "18392     MN02-996         2002     Morbid Obesity                  Other   \n",
              "\n",
              "                                  Treatment Category  \\\n",
              "5424   Electrical/ Thermal/ Radiofreq. Interventions   \n",
              "3881                         Mental Health Treatment   \n",
              "18392                                General Surgery   \n",
              "\n",
              "                  Treatment Sub Category                       Determination  \\\n",
              "5424   Transcranial Magnetic Stimulation      Upheld Decision of Health Plan   \n",
              "3881                       Psychotherapy      Upheld Decision of Health Plan   \n",
              "18392                     Gastric Bypass  Overturned Decision of Health Plan   \n",
              "\n",
              "                    Type Age Range Patient Gender  \\\n",
              "5424   Medical Necessity     51-64         Female   \n",
              "3881   Medical Necessity     51-64           Male   \n",
              "18392  Medical Necessity       NaN            NaN   \n",
              "\n",
              "                                                Findings  \n",
              "5424   A 61-year-old female enrollee has requested co...  \n",
              "3881   A 62-year-old male enrollee requested bi-weekl...  \n",
              "18392  A 43-year-old female enrollee requested author...  "
            ],
            "text/html": [
              "\n",
              "  <div id=\"df-bf3a00e7-fb6f-4830-9bcd-0139e95085e3\" class=\"colab-df-container\">\n",
              "    <div>\n",
              "<style scoped>\n",
              "    .dataframe tbody tr th:only-of-type {\n",
              "        vertical-align: middle;\n",
              "    }\n",
              "\n",
              "    .dataframe tbody tr th {\n",
              "        vertical-align: top;\n",
              "    }\n",
              "\n",
              "    .dataframe thead th {\n",
              "        text-align: right;\n",
              "    }\n",
              "</style>\n",
              "<table border=\"1\" class=\"dataframe\">\n",
              "  <thead>\n",
              "    <tr style=\"text-align: right;\">\n",
              "      <th></th>\n",
              "      <th>Reference ID</th>\n",
              "      <th>Report Year</th>\n",
              "      <th>Diagnosis Category</th>\n",
              "      <th>Diagnosis Sub Category</th>\n",
              "      <th>Treatment Category</th>\n",
              "      <th>Treatment Sub Category</th>\n",
              "      <th>Determination</th>\n",
              "      <th>Type</th>\n",
              "      <th>Age Range</th>\n",
              "      <th>Patient Gender</th>\n",
              "      <th>Findings</th>\n",
              "    </tr>\n",
              "  </thead>\n",
              "  <tbody>\n",
              "    <tr>\n",
              "      <th>5424</th>\n",
              "      <td>MN13-15433</td>\n",
              "      <td>2013</td>\n",
              "      <td>Mental</td>\n",
              "      <td>Depression - Severe</td>\n",
              "      <td>Electrical/ Thermal/ Radiofreq. Interventions</td>\n",
              "      <td>Transcranial Magnetic Stimulation</td>\n",
              "      <td>Upheld Decision of Health Plan</td>\n",
              "      <td>Medical Necessity</td>\n",
              "      <td>51-64</td>\n",
              "      <td>Female</td>\n",
              "      <td>A 61-year-old female enrollee has requested co...</td>\n",
              "    </tr>\n",
              "    <tr>\n",
              "      <th>3881</th>\n",
              "      <td>MN14-18910</td>\n",
              "      <td>2014</td>\n",
              "      <td>Mental</td>\n",
              "      <td>Other</td>\n",
              "      <td>Mental Health Treatment</td>\n",
              "      <td>Psychotherapy</td>\n",
              "      <td>Upheld Decision of Health Plan</td>\n",
              "      <td>Medical Necessity</td>\n",
              "      <td>51-64</td>\n",
              "      <td>Male</td>\n",
              "      <td>A 62-year-old male enrollee requested bi-weekl...</td>\n",
              "    </tr>\n",
              "    <tr>\n",
              "      <th>18392</th>\n",
              "      <td>MN02-996</td>\n",
              "      <td>2002</td>\n",
              "      <td>Morbid Obesity</td>\n",
              "      <td>Other</td>\n",
              "      <td>General Surgery</td>\n",
              "      <td>Gastric Bypass</td>\n",
              "      <td>Overturned Decision of Health Plan</td>\n",
              "      <td>Medical Necessity</td>\n",
              "      <td>NaN</td>\n",
              "      <td>NaN</td>\n",
              "      <td>A 43-year-old female enrollee requested author...</td>\n",
              "    </tr>\n",
              "  </tbody>\n",
              "</table>\n",
              "</div>\n",
              "    <div class=\"colab-df-buttons\">\n",
              "\n",
              "  <div class=\"colab-df-container\">\n",
              "    <button class=\"colab-df-convert\" onclick=\"convertToInteractive('df-bf3a00e7-fb6f-4830-9bcd-0139e95085e3')\"\n",
              "            title=\"Convert this dataframe to an interactive table.\"\n",
              "            style=\"display:none;\">\n",
              "\n",
              "  <svg xmlns=\"http://www.w3.org/2000/svg\" height=\"24px\" viewBox=\"0 -960 960 960\">\n",
              "    <path d=\"M120-120v-720h720v720H120Zm60-500h600v-160H180v160Zm220 220h160v-160H400v160Zm0 220h160v-160H400v160ZM180-400h160v-160H180v160Zm440 0h160v-160H620v160ZM180-180h160v-160H180v160Zm440 0h160v-160H620v160Z\"/>\n",
              "  </svg>\n",
              "    </button>\n",
              "\n",
              "  <style>\n",
              "    .colab-df-container {\n",
              "      display:flex;\n",
              "      gap: 12px;\n",
              "    }\n",
              "\n",
              "    .colab-df-convert {\n",
              "      background-color: #E8F0FE;\n",
              "      border: none;\n",
              "      border-radius: 50%;\n",
              "      cursor: pointer;\n",
              "      display: none;\n",
              "      fill: #1967D2;\n",
              "      height: 32px;\n",
              "      padding: 0 0 0 0;\n",
              "      width: 32px;\n",
              "    }\n",
              "\n",
              "    .colab-df-convert:hover {\n",
              "      background-color: #E2EBFA;\n",
              "      box-shadow: 0px 1px 2px rgba(60, 64, 67, 0.3), 0px 1px 3px 1px rgba(60, 64, 67, 0.15);\n",
              "      fill: #174EA6;\n",
              "    }\n",
              "\n",
              "    .colab-df-buttons div {\n",
              "      margin-bottom: 4px;\n",
              "    }\n",
              "\n",
              "    [theme=dark] .colab-df-convert {\n",
              "      background-color: #3B4455;\n",
              "      fill: #D2E3FC;\n",
              "    }\n",
              "\n",
              "    [theme=dark] .colab-df-convert:hover {\n",
              "      background-color: #434B5C;\n",
              "      box-shadow: 0px 1px 3px 1px rgba(0, 0, 0, 0.15);\n",
              "      filter: drop-shadow(0px 1px 2px rgba(0, 0, 0, 0.3));\n",
              "      fill: #FFFFFF;\n",
              "    }\n",
              "  </style>\n",
              "\n",
              "    <script>\n",
              "      const buttonEl =\n",
              "        document.querySelector('#df-bf3a00e7-fb6f-4830-9bcd-0139e95085e3 button.colab-df-convert');\n",
              "      buttonEl.style.display =\n",
              "        google.colab.kernel.accessAllowed ? 'block' : 'none';\n",
              "\n",
              "      async function convertToInteractive(key) {\n",
              "        const element = document.querySelector('#df-bf3a00e7-fb6f-4830-9bcd-0139e95085e3');\n",
              "        const dataTable =\n",
              "          await google.colab.kernel.invokeFunction('convertToInteractive',\n",
              "                                                    [key], {});\n",
              "        if (!dataTable) return;\n",
              "\n",
              "        const docLinkHtml = 'Like what you see? Visit the ' +\n",
              "          '<a target=\"_blank\" href=https://colab.research.google.com/notebooks/data_table.ipynb>data table notebook</a>'\n",
              "          + ' to learn more about interactive tables.';\n",
              "        element.innerHTML = '';\n",
              "        dataTable['output_type'] = 'display_data';\n",
              "        await google.colab.output.renderOutput(dataTable, element);\n",
              "        const docLink = document.createElement('div');\n",
              "        docLink.innerHTML = docLinkHtml;\n",
              "        element.appendChild(docLink);\n",
              "      }\n",
              "    </script>\n",
              "  </div>\n",
              "\n",
              "\n",
              "<div id=\"df-447654e3-48a6-4095-8ca8-fc19bbb433c2\">\n",
              "  <button class=\"colab-df-quickchart\" onclick=\"quickchart('df-447654e3-48a6-4095-8ca8-fc19bbb433c2')\"\n",
              "            title=\"Suggest charts.\"\n",
              "            style=\"display:none;\">\n",
              "\n",
              "<svg xmlns=\"http://www.w3.org/2000/svg\" height=\"24px\"viewBox=\"0 0 24 24\"\n",
              "     width=\"24px\">\n",
              "    <g>\n",
              "        <path d=\"M19 3H5c-1.1 0-2 .9-2 2v14c0 1.1.9 2 2 2h14c1.1 0 2-.9 2-2V5c0-1.1-.9-2-2-2zM9 17H7v-7h2v7zm4 0h-2V7h2v10zm4 0h-2v-4h2v4z\"/>\n",
              "    </g>\n",
              "</svg>\n",
              "  </button>\n",
              "\n",
              "<style>\n",
              "  .colab-df-quickchart {\n",
              "      --bg-color: #E8F0FE;\n",
              "      --fill-color: #1967D2;\n",
              "      --hover-bg-color: #E2EBFA;\n",
              "      --hover-fill-color: #174EA6;\n",
              "      --disabled-fill-color: #AAA;\n",
              "      --disabled-bg-color: #DDD;\n",
              "  }\n",
              "\n",
              "  [theme=dark] .colab-df-quickchart {\n",
              "      --bg-color: #3B4455;\n",
              "      --fill-color: #D2E3FC;\n",
              "      --hover-bg-color: #434B5C;\n",
              "      --hover-fill-color: #FFFFFF;\n",
              "      --disabled-bg-color: #3B4455;\n",
              "      --disabled-fill-color: #666;\n",
              "  }\n",
              "\n",
              "  .colab-df-quickchart {\n",
              "    background-color: var(--bg-color);\n",
              "    border: none;\n",
              "    border-radius: 50%;\n",
              "    cursor: pointer;\n",
              "    display: none;\n",
              "    fill: var(--fill-color);\n",
              "    height: 32px;\n",
              "    padding: 0;\n",
              "    width: 32px;\n",
              "  }\n",
              "\n",
              "  .colab-df-quickchart:hover {\n",
              "    background-color: var(--hover-bg-color);\n",
              "    box-shadow: 0 1px 2px rgba(60, 64, 67, 0.3), 0 1px 3px 1px rgba(60, 64, 67, 0.15);\n",
              "    fill: var(--button-hover-fill-color);\n",
              "  }\n",
              "\n",
              "  .colab-df-quickchart-complete:disabled,\n",
              "  .colab-df-quickchart-complete:disabled:hover {\n",
              "    background-color: var(--disabled-bg-color);\n",
              "    fill: var(--disabled-fill-color);\n",
              "    box-shadow: none;\n",
              "  }\n",
              "\n",
              "  .colab-df-spinner {\n",
              "    border: 2px solid var(--fill-color);\n",
              "    border-color: transparent;\n",
              "    border-bottom-color: var(--fill-color);\n",
              "    animation:\n",
              "      spin 1s steps(1) infinite;\n",
              "  }\n",
              "\n",
              "  @keyframes spin {\n",
              "    0% {\n",
              "      border-color: transparent;\n",
              "      border-bottom-color: var(--fill-color);\n",
              "      border-left-color: var(--fill-color);\n",
              "    }\n",
              "    20% {\n",
              "      border-color: transparent;\n",
              "      border-left-color: var(--fill-color);\n",
              "      border-top-color: var(--fill-color);\n",
              "    }\n",
              "    30% {\n",
              "      border-color: transparent;\n",
              "      border-left-color: var(--fill-color);\n",
              "      border-top-color: var(--fill-color);\n",
              "      border-right-color: var(--fill-color);\n",
              "    }\n",
              "    40% {\n",
              "      border-color: transparent;\n",
              "      border-right-color: var(--fill-color);\n",
              "      border-top-color: var(--fill-color);\n",
              "    }\n",
              "    60% {\n",
              "      border-color: transparent;\n",
              "      border-right-color: var(--fill-color);\n",
              "    }\n",
              "    80% {\n",
              "      border-color: transparent;\n",
              "      border-right-color: var(--fill-color);\n",
              "      border-bottom-color: var(--fill-color);\n",
              "    }\n",
              "    90% {\n",
              "      border-color: transparent;\n",
              "      border-bottom-color: var(--fill-color);\n",
              "    }\n",
              "  }\n",
              "</style>\n",
              "\n",
              "  <script>\n",
              "    async function quickchart(key) {\n",
              "      const quickchartButtonEl =\n",
              "        document.querySelector('#' + key + ' button');\n",
              "      quickchartButtonEl.disabled = true;  // To prevent multiple clicks.\n",
              "      quickchartButtonEl.classList.add('colab-df-spinner');\n",
              "      try {\n",
              "        const charts = await google.colab.kernel.invokeFunction(\n",
              "            'suggestCharts', [key], {});\n",
              "      } catch (error) {\n",
              "        console.error('Error during call to suggestCharts:', error);\n",
              "      }\n",
              "      quickchartButtonEl.classList.remove('colab-df-spinner');\n",
              "      quickchartButtonEl.classList.add('colab-df-quickchart-complete');\n",
              "    }\n",
              "    (() => {\n",
              "      let quickchartButtonEl =\n",
              "        document.querySelector('#df-447654e3-48a6-4095-8ca8-fc19bbb433c2 button');\n",
              "      quickchartButtonEl.style.display =\n",
              "        google.colab.kernel.accessAllowed ? 'block' : 'none';\n",
              "    })();\n",
              "  </script>\n",
              "</div>\n",
              "    </div>\n",
              "  </div>\n"
            ]
          },
          "metadata": {},
          "execution_count": 5
        }
      ]
    },
    {
      "cell_type": "code",
      "source": [
        "# select the relevant feature('Findings') and target('Determination') to create the main dataframe\n",
        "# display three random examples\n",
        "\n",
        "main_df = df[['Findings', 'Determination']]\n",
        "main_df.sample(3)"
      ],
      "metadata": {
        "execution": {
          "iopub.status.busy": "2023-10-26T09:06:53.212258Z",
          "iopub.execute_input": "2023-10-26T09:06:53.212551Z",
          "iopub.status.idle": "2023-10-26T09:06:53.224274Z",
          "shell.execute_reply.started": "2023-10-26T09:06:53.212525Z",
          "shell.execute_reply": "2023-10-26T09:06:53.223181Z"
        },
        "trusted": true,
        "id": "dIgmEgRmTxcU",
        "outputId": "be61c9e1-81ca-42ed-c903-690694a9a323"
      },
      "execution_count": null,
      "outputs": [
        {
          "execution_count": 3,
          "output_type": "execute_result",
          "data": {
            "text/plain": "                                                Findings  \\\n627    Nature of Statutory Criteria/Case Summary:   A...   \n17803  A 54-year-old female enrollee requested author...   \n8272   A 39-year-old male enrollee has requested a co...   \n\n                        Determination  \n627    Upheld Decision of Health Plan  \n17803  Upheld Decision of Health Plan  \n8272   Upheld Decision of Health Plan  ",
            "text/html": "<div>\n<style scoped>\n    .dataframe tbody tr th:only-of-type {\n        vertical-align: middle;\n    }\n\n    .dataframe tbody tr th {\n        vertical-align: top;\n    }\n\n    .dataframe thead th {\n        text-align: right;\n    }\n</style>\n<table border=\"1\" class=\"dataframe\">\n  <thead>\n    <tr style=\"text-align: right;\">\n      <th></th>\n      <th>Findings</th>\n      <th>Determination</th>\n    </tr>\n  </thead>\n  <tbody>\n    <tr>\n      <th>627</th>\n      <td>Nature of Statutory Criteria/Case Summary:   A...</td>\n      <td>Upheld Decision of Health Plan</td>\n    </tr>\n    <tr>\n      <th>17803</th>\n      <td>A 54-year-old female enrollee requested author...</td>\n      <td>Upheld Decision of Health Plan</td>\n    </tr>\n    <tr>\n      <th>8272</th>\n      <td>A 39-year-old male enrollee has requested a co...</td>\n      <td>Upheld Decision of Health Plan</td>\n    </tr>\n  </tbody>\n</table>\n</div>"
          },
          "metadata": {}
        }
      ]
    },
    {
      "cell_type": "code",
      "source": [
        "# get number of examples and number of features\n",
        "\n",
        "print(f'Number of examples before cleaning = {main_df.shape[0]}')\n",
        "print(f'Number of examples = {main_df.shape[1]}')"
      ],
      "metadata": {
        "execution": {
          "iopub.status.busy": "2023-10-26T09:06:53.227404Z",
          "iopub.execute_input": "2023-10-26T09:06:53.228094Z",
          "iopub.status.idle": "2023-10-26T09:06:53.235671Z",
          "shell.execute_reply.started": "2023-10-26T09:06:53.228059Z",
          "shell.execute_reply": "2023-10-26T09:06:53.234754Z"
        },
        "trusted": true,
        "id": "biqsykOBTxcU",
        "outputId": "3d816e6a-163b-40ef-ed65-470609f22964"
      },
      "execution_count": null,
      "outputs": [
        {
          "name": "stdout",
          "text": "Number of examples before cleaning = 19245\nNumber of examples = 2\n",
          "output_type": "stream"
        }
      ]
    },
    {
      "cell_type": "code",
      "source": [
        "# confirm that feature and label are text data ('object')\n",
        "\n",
        "data_types = main_df.dtypes\n",
        "data_types"
      ],
      "metadata": {
        "execution": {
          "iopub.status.busy": "2023-10-26T09:06:53.236650Z",
          "iopub.execute_input": "2023-10-26T09:06:53.236941Z",
          "iopub.status.idle": "2023-10-26T09:06:53.248211Z",
          "shell.execute_reply.started": "2023-10-26T09:06:53.236916Z",
          "shell.execute_reply": "2023-10-26T09:06:53.247258Z"
        },
        "trusted": true,
        "id": "_zX9v4ibTxcU",
        "outputId": "652279d5-a735-4575-a988-e66d5f60ad6d"
      },
      "execution_count": null,
      "outputs": [
        {
          "execution_count": 5,
          "output_type": "execute_result",
          "data": {
            "text/plain": "Findings         object\nDetermination    object\ndtype: object"
          },
          "metadata": {}
        }
      ]
    },
    {
      "cell_type": "code",
      "source": [
        "# Transform labels from nominal categories to ordinal categories\n",
        "\n",
        "mask = (main_df.Determination == 'Overturned Decision of Health Plan') # create mask\n",
        "new_target = mask.astype('int') # change mask to integers\n",
        "main_df = main_df.assign(Determination = new_target)"
      ],
      "metadata": {
        "execution": {
          "iopub.status.busy": "2023-10-26T09:06:53.249257Z",
          "iopub.execute_input": "2023-10-26T09:06:53.249506Z",
          "iopub.status.idle": "2023-10-26T09:06:53.263986Z",
          "shell.execute_reply.started": "2023-10-26T09:06:53.249485Z",
          "shell.execute_reply": "2023-10-26T09:06:53.263164Z"
        },
        "trusted": true,
        "id": "3_4YmLTZTxcU"
      },
      "execution_count": null,
      "outputs": []
    },
    {
      "cell_type": "code",
      "source": [
        "# check for missing values or entries\n",
        "\n",
        "num_missing = main_df.isna().sum()\n",
        "num_missing"
      ],
      "metadata": {
        "execution": {
          "iopub.status.busy": "2023-10-26T09:06:53.265203Z",
          "iopub.execute_input": "2023-10-26T09:06:53.265989Z",
          "iopub.status.idle": "2023-10-26T09:06:53.282478Z",
          "shell.execute_reply.started": "2023-10-26T09:06:53.265946Z",
          "shell.execute_reply": "2023-10-26T09:06:53.281548Z"
        },
        "trusted": true,
        "id": "8XgsD2lQTxcV",
        "outputId": "a2997d50-fb87-4bac-e994-d4fed793dba4"
      },
      "execution_count": null,
      "outputs": [
        {
          "execution_count": 7,
          "output_type": "execute_result",
          "data": {
            "text/plain": "Findings         20\nDetermination     0\ndtype: int64"
          },
          "metadata": {}
        }
      ]
    },
    {
      "cell_type": "code",
      "source": [
        "# since missing values are from the feature vector ('Findings'), remove all missing values\n",
        "\n",
        "main_df = main_df.dropna(axis = 0)\n",
        "main_df.isna().sum() # confirm that there are no missing entries"
      ],
      "metadata": {
        "execution": {
          "iopub.status.busy": "2023-10-26T09:06:53.283682Z",
          "iopub.execute_input": "2023-10-26T09:06:53.284039Z",
          "iopub.status.idle": "2023-10-26T09:06:53.306302Z",
          "shell.execute_reply.started": "2023-10-26T09:06:53.284012Z",
          "shell.execute_reply": "2023-10-26T09:06:53.305398Z"
        },
        "trusted": true,
        "id": "hA49lhJ3TxcV",
        "outputId": "9225896f-c066-45f5-a078-556a25366604"
      },
      "execution_count": null,
      "outputs": [
        {
          "execution_count": 8,
          "output_type": "execute_result",
          "data": {
            "text/plain": "Findings         0\nDetermination    0\ndtype: int64"
          },
          "metadata": {}
        }
      ]
    },
    {
      "cell_type": "code",
      "source": [
        "# show numbers of data points and features\n",
        "\n",
        "print(f'Number of examples = {main_df.shape[0]}')\n",
        "print(f'Number of examples = {main_df.shape[1]}')"
      ],
      "metadata": {
        "execution": {
          "iopub.status.busy": "2023-10-26T09:06:53.307428Z",
          "iopub.execute_input": "2023-10-26T09:06:53.307692Z",
          "iopub.status.idle": "2023-10-26T09:06:53.312807Z",
          "shell.execute_reply.started": "2023-10-26T09:06:53.307668Z",
          "shell.execute_reply": "2023-10-26T09:06:53.311757Z"
        },
        "trusted": true,
        "id": "m5_mayuYTxcV",
        "outputId": "01a3befa-323b-462b-d79b-00869dc99c53"
      },
      "execution_count": null,
      "outputs": [
        {
          "name": "stdout",
          "text": "Number of examples = 19225\nNumber of examples = 2\n",
          "output_type": "stream"
        }
      ]
    },
    {
      "cell_type": "code",
      "source": [
        "# display final dataset\n",
        "\n",
        "main_df.head(2)"
      ],
      "metadata": {
        "execution": {
          "iopub.status.busy": "2023-10-26T09:06:53.315913Z",
          "iopub.execute_input": "2023-10-26T09:06:53.316209Z",
          "iopub.status.idle": "2023-10-26T09:06:53.328704Z",
          "shell.execute_reply.started": "2023-10-26T09:06:53.316185Z",
          "shell.execute_reply": "2023-10-26T09:06:53.327713Z"
        },
        "trusted": true,
        "id": "EsM4pJ4rTxcW",
        "outputId": "1d835066-6d17-4061-adb2-90dc057c63e1"
      },
      "execution_count": null,
      "outputs": [
        {
          "execution_count": 10,
          "output_type": "execute_result",
          "data": {
            "text/plain": "                                            Findings  Determination\n0  Nature of Statutory Criteria/Case Summary: An ...              1\n1  Nature of Statutory Criteria/Case Summary:  An...              0",
            "text/html": "<div>\n<style scoped>\n    .dataframe tbody tr th:only-of-type {\n        vertical-align: middle;\n    }\n\n    .dataframe tbody tr th {\n        vertical-align: top;\n    }\n\n    .dataframe thead th {\n        text-align: right;\n    }\n</style>\n<table border=\"1\" class=\"dataframe\">\n  <thead>\n    <tr style=\"text-align: right;\">\n      <th></th>\n      <th>Findings</th>\n      <th>Determination</th>\n    </tr>\n  </thead>\n  <tbody>\n    <tr>\n      <th>0</th>\n      <td>Nature of Statutory Criteria/Case Summary: An ...</td>\n      <td>1</td>\n    </tr>\n    <tr>\n      <th>1</th>\n      <td>Nature of Statutory Criteria/Case Summary:  An...</td>\n      <td>0</td>\n    </tr>\n  </tbody>\n</table>\n</div>"
          },
          "metadata": {}
        }
      ]
    },
    {
      "cell_type": "markdown",
      "source": [
        "**DEFINE UTILITY FUNCTIONS**"
      ],
      "metadata": {
        "id": "1706IZvQTxcW"
      }
    },
    {
      "cell_type": "code",
      "source": [
        "# plot_training_log - to plot train loss vs val loss & train accuracy vs val accuracy\n",
        "# get predictions - to make predictions\n",
        "# scheduler : to dynamically set learning training rate throughout the training phase\n",
        "\n",
        "def plot_training_log(history):\n",
        "    history = pd.DataFrame(data = history.history, index = history.epoch)\n",
        "    fig, ax = plt.subplots(2,1, sharex = True, figsize = (5,10))\n",
        "    ax[0].plot(history.index, history.loss, label = 'Train')\n",
        "    ax[0].plot(history.index, history.val_loss, label = 'Validation')\n",
        "    ax[0].set_ylim(0.0,0.5)\n",
        "    ax[0].set_title('Train_loss vs Val_loss')\n",
        "    ax[0].legend()\n",
        "    ax[0].set_ylabel('Loss')\n",
        "    ax[1].plot(history.index, history.accuracy, label = 'Train')\n",
        "    ax[1].plot(history.index, history.val_accuracy, label = 'Validation')\n",
        "    ax[1].set_ylim(0.5, 1.0)\n",
        "    ax[1].set_title('Train_Accuracy vs Val_Accuracy')\n",
        "    ax[1].legend()\n",
        "    ax[1].set_ylabel('Accuracy')\n",
        "    ax[1].set_xlabel('Epochs')\n",
        "    plt.show()\n",
        "\n",
        "def get_predictions(input, label):\n",
        "    logit = model.predict(input)\n",
        "    pred = np.squeeze((logit >= 0.0).astype('int'))\n",
        "    return pred, label\n",
        "\n",
        "def scheduler(epoch, lr):\n",
        "    if epoch < 10:\n",
        "        return 0.001\n",
        "    else:\n",
        "        return 0.0001\n"
      ],
      "metadata": {
        "execution": {
          "iopub.status.busy": "2023-10-26T09:06:53.330119Z",
          "iopub.execute_input": "2023-10-26T09:06:53.330905Z",
          "iopub.status.idle": "2023-10-26T09:06:53.342105Z",
          "shell.execute_reply.started": "2023-10-26T09:06:53.330868Z",
          "shell.execute_reply": "2023-10-26T09:06:53.341204Z"
        },
        "trusted": true,
        "id": "acPbgxB_TxcW"
      },
      "execution_count": null,
      "outputs": []
    },
    {
      "cell_type": "markdown",
      "source": [
        "**BUILD MODEL TRAINING PIPELINE**"
      ],
      "metadata": {
        "id": "bhlSPCDGTxcW"
      }
    },
    {
      "cell_type": "code",
      "source": [
        "# Create a tf.data.Dataset pipeline\n",
        "\n",
        "Input = main_df['Findings']\n",
        "output = main_df['Determination']\n",
        "data_set = tf.data.Dataset.from_tensor_slices((Input,output))\n"
      ],
      "metadata": {
        "execution": {
          "iopub.status.busy": "2023-10-26T09:06:53.343173Z",
          "iopub.execute_input": "2023-10-26T09:06:53.343519Z",
          "iopub.status.idle": "2023-10-26T09:06:56.347823Z",
          "shell.execute_reply.started": "2023-10-26T09:06:53.343485Z",
          "shell.execute_reply": "2023-10-26T09:06:56.346642Z"
        },
        "trusted": true,
        "id": "SjYI9I90TxcW"
      },
      "execution_count": null,
      "outputs": []
    },
    {
      "cell_type": "code",
      "source": [
        "# use feature vector to create token vocabulary\n",
        "\n",
        "vocab_size = 1000\n",
        "text_vectorizer = tf.keras.layers.TextVectorization(max_tokens = vocab_size)\n",
        "data_input = data_set.map(lambda x,y: x)\n",
        "text_vectorizer.adapt(data_input)"
      ],
      "metadata": {
        "execution": {
          "iopub.status.busy": "2023-10-26T09:06:56.349187Z",
          "iopub.execute_input": "2023-10-26T09:06:56.349510Z",
          "iopub.status.idle": "2023-10-26T09:07:31.451847Z",
          "shell.execute_reply.started": "2023-10-26T09:06:56.349483Z",
          "shell.execute_reply": "2023-10-26T09:07:31.450697Z"
        },
        "trusted": true,
        "id": "VclcTaH3TxcW"
      },
      "execution_count": null,
      "outputs": []
    },
    {
      "cell_type": "code",
      "source": [
        "# sanity check\n",
        "\n",
        "original_text = main_df['Findings'][0][:70]\n",
        "vocab = np.array(text_vectorizer.get_vocabulary())\n",
        "text_vectors = text_vectorizer(original_text).numpy()\n",
        "transcript = ' '.join(vocab[text_vectors])\n",
        "print(f'Original text: {original_text}')\n",
        "print('\\n')\n",
        "print(f'tokens: {text_vectors}')\n",
        "print('\\n')\n",
        "print(f'Transcript: {transcript}')"
      ],
      "metadata": {
        "execution": {
          "iopub.status.busy": "2023-10-26T09:07:31.453282Z",
          "iopub.execute_input": "2023-10-26T09:07:31.454142Z",
          "iopub.status.idle": "2023-10-26T09:07:31.511221Z",
          "shell.execute_reply.started": "2023-10-26T09:07:31.454103Z",
          "shell.execute_reply": "2023-10-26T09:07:31.510233Z"
        },
        "trusted": true,
        "id": "rEafpsS4TxcW",
        "outputId": "80e04e0d-f203-42f3-e378-1051b8eafedb"
      },
      "execution_count": null,
      "outputs": [
        {
          "name": "stdout",
          "text": "Original text: Nature of Statutory Criteria/Case Summary: An enrollee has requested H\n\n\ntokens: [132   3 181 182 164  27  34  12  17   1]\n\n\nTranscript: nature of statutory criteriacase summary an enrollee has requested [UNK]\n",
          "output_type": "stream"
        }
      ]
    },
    {
      "cell_type": "code",
      "source": [
        "# batch, shuffle and cache the dataset to improve model robustness\n",
        "\n",
        "data_set = data_set.batch(64).shuffle(buffer_size = 1000).cache().prefetch(buffer_size = tf.data.AUTOTUNE)"
      ],
      "metadata": {
        "execution": {
          "iopub.status.busy": "2023-10-26T09:07:31.512550Z",
          "iopub.execute_input": "2023-10-26T09:07:31.512920Z",
          "iopub.status.idle": "2023-10-26T09:07:31.531395Z",
          "shell.execute_reply.started": "2023-10-26T09:07:31.512891Z",
          "shell.execute_reply": "2023-10-26T09:07:31.530549Z"
        },
        "trusted": true,
        "id": "78NKT9kDTxcW"
      },
      "execution_count": null,
      "outputs": []
    },
    {
      "cell_type": "code",
      "source": [
        "# split dataset into train, validation and test sets\n",
        "# ~80% - Train set, ~19.99% - Validation set, ~0.01% - Test set\n",
        "\n",
        "train_size = 0.8\n",
        "num_batches = data_set.cardinality().numpy()\n",
        "num_train = int(num_batches * train_size)\n",
        "num_val = num_batches - num_train - 1\n",
        "num_test = 1\n",
        "\n",
        "train_set = data_set.take(num_train)\n",
        "train_set_ = data_set.skip(num_train)\n",
        "val_set = train_set_.take(num_val)\n",
        "test_set = train_set_.skip(num_val)\n",
        "\n",
        "# sanity check\n",
        "print(f'Number of train batches {train_set.cardinality().numpy()}, Number of val batches {val_set.cardinality().numpy()}, Number of test batches {test_set.cardinality().numpy()}')"
      ],
      "metadata": {
        "execution": {
          "iopub.status.busy": "2023-10-26T09:07:31.532683Z",
          "iopub.execute_input": "2023-10-26T09:07:31.533041Z",
          "iopub.status.idle": "2023-10-26T09:07:31.546943Z",
          "shell.execute_reply.started": "2023-10-26T09:07:31.533010Z",
          "shell.execute_reply": "2023-10-26T09:07:31.546061Z"
        },
        "trusted": true,
        "id": "lZ9CZYvsTxcX",
        "outputId": "baa89aad-0974-47dd-ce5a-5d92e475154e"
      },
      "execution_count": null,
      "outputs": [
        {
          "name": "stdout",
          "text": "Number of train batches 240, Number of val batches 60, Number of test batches 1\n",
          "output_type": "stream"
        }
      ]
    },
    {
      "cell_type": "code",
      "source": [
        "# define model architecture\n",
        "# set a learning rate scheduler callback\n",
        "#compile model, use binary crossentropy and set 'from_logits' to True\n",
        "# show model performance after training\n",
        "# train model for 15 epochs\n",
        "\n",
        "model = tf.keras.Sequential([text_vectorizer, tf.keras.layers.Embedding(vocab_size, 64, mask_zero = True),\n",
        "                             tf.keras.layers.Bidirectional(tf.keras.layers.LSTM(64)),\n",
        "                             tf.keras.layers.Dense(8, activation = 'relu'),\n",
        "                             tf.keras.layers.Dropout(0.5),\n",
        "                             tf.keras.layers.Dense(1)\n",
        "                            ])\n",
        "\n",
        "RoP = tf.keras.callbacks.LearningRateScheduler(scheduler)\n",
        "\n",
        "model.compile(optimizer = tf.keras.optimizers.Adam(), loss = tf.keras.losses.BinaryCrossentropy(from_logits = True), metrics = ['accuracy'])\n",
        "\n",
        "print(f'Test accuracy before model training {model.evaluate(test_set)[1]}')\n",
        "\n",
        "history = model.fit(train_set, epochs=15, validation_data = val_set, callbacks = [RoP])"
      ],
      "metadata": {
        "execution": {
          "iopub.status.busy": "2023-10-26T09:07:31.548098Z",
          "iopub.execute_input": "2023-10-26T09:07:31.548837Z",
          "iopub.status.idle": "2023-10-26T09:11:20.595630Z",
          "shell.execute_reply.started": "2023-10-26T09:07:31.548778Z",
          "shell.execute_reply": "2023-10-26T09:11:20.594740Z"
        },
        "trusted": true,
        "id": "ZPUUgWy4TxcX",
        "outputId": "caac8146-16a1-4ff1-b786-a371179dff88"
      },
      "execution_count": null,
      "outputs": [
        {
          "name": "stdout",
          "text": "1/1 [==============================] - 9s 9s/step - loss: 0.6945 - accuracy: 0.7500\nTest accuracy before model training 0.75\nEpoch 1/15\n240/240 [==============================] - 52s 176ms/step - loss: 0.5348 - accuracy: 0.6988 - val_loss: 0.2452 - val_accuracy: 0.9128 - lr: 0.0010\nEpoch 2/15\n240/240 [==============================] - 12s 51ms/step - loss: 0.2921 - accuracy: 0.9088 - val_loss: 0.1830 - val_accuracy: 0.9331 - lr: 0.0010\nEpoch 3/15\n240/240 [==============================] - 12s 50ms/step - loss: 0.2657 - accuracy: 0.9200 - val_loss: 0.1941 - val_accuracy: 0.9320 - lr: 0.0010\nEpoch 4/15\n240/240 [==============================] - 12s 51ms/step - loss: 0.2217 - accuracy: 0.9338 - val_loss: 0.1809 - val_accuracy: 0.9331 - lr: 0.0010\nEpoch 5/15\n240/240 [==============================] - 12s 50ms/step - loss: 0.2067 - accuracy: 0.9379 - val_loss: 0.1864 - val_accuracy: 0.9352 - lr: 0.0010\nEpoch 6/15\n240/240 [==============================] - 12s 50ms/step - loss: 0.1815 - accuracy: 0.9416 - val_loss: 0.1666 - val_accuracy: 0.9370 - lr: 0.0010\nEpoch 7/15\n240/240 [==============================] - 12s 51ms/step - loss: 0.1700 - accuracy: 0.9460 - val_loss: 0.1835 - val_accuracy: 0.9396 - lr: 0.0010\nEpoch 8/15\n240/240 [==============================] - 12s 50ms/step - loss: 0.1632 - accuracy: 0.9464 - val_loss: 0.1692 - val_accuracy: 0.9432 - lr: 0.0010\nEpoch 9/15\n240/240 [==============================] - 12s 49ms/step - loss: 0.1481 - accuracy: 0.9514 - val_loss: 0.1979 - val_accuracy: 0.9401 - lr: 0.0010\nEpoch 10/15\n240/240 [==============================] - 12s 50ms/step - loss: 0.1343 - accuracy: 0.9579 - val_loss: 0.1904 - val_accuracy: 0.9427 - lr: 0.0010\nEpoch 11/15\n240/240 [==============================] - 12s 50ms/step - loss: 0.1200 - accuracy: 0.9648 - val_loss: 0.1812 - val_accuracy: 0.9427 - lr: 1.0000e-04\nEpoch 12/15\n240/240 [==============================] - 12s 51ms/step - loss: 0.1133 - accuracy: 0.9676 - val_loss: 0.1880 - val_accuracy: 0.9432 - lr: 1.0000e-04\nEpoch 13/15\n240/240 [==============================] - 12s 50ms/step - loss: 0.1105 - accuracy: 0.9704 - val_loss: 0.1852 - val_accuracy: 0.9427 - lr: 1.0000e-04\nEpoch 14/15\n240/240 [==============================] - 12s 49ms/step - loss: 0.1071 - accuracy: 0.9703 - val_loss: 0.1927 - val_accuracy: 0.9438 - lr: 1.0000e-04\nEpoch 15/15\n240/240 [==============================] - 12s 50ms/step - loss: 0.1030 - accuracy: 0.9710 - val_loss: 0.1985 - val_accuracy: 0.9432 - lr: 1.0000e-04\n",
          "output_type": "stream"
        }
      ]
    },
    {
      "cell_type": "markdown",
      "source": [
        "**MODEL EVALUATION**"
      ],
      "metadata": {
        "execution": {
          "iopub.status.busy": "2023-07-16T15:34:21.904402Z",
          "iopub.execute_input": "2023-07-16T15:34:21.904784Z",
          "iopub.status.idle": "2023-07-16T15:34:21.915424Z",
          "shell.execute_reply.started": "2023-07-16T15:34:21.904752Z",
          "shell.execute_reply": "2023-07-16T15:34:21.914332Z"
        },
        "id": "mDYjNUjNTxcX"
      }
    },
    {
      "cell_type": "code",
      "source": [
        "plot_training_log(history)"
      ],
      "metadata": {
        "execution": {
          "iopub.status.busy": "2023-10-26T09:11:20.596907Z",
          "iopub.execute_input": "2023-10-26T09:11:20.597204Z",
          "iopub.status.idle": "2023-10-26T09:11:21.133310Z",
          "shell.execute_reply.started": "2023-10-26T09:11:20.597178Z",
          "shell.execute_reply": "2023-10-26T09:11:21.132358Z"
        },
        "trusted": true,
        "id": "XtS0adNRTxcX",
        "outputId": "c800ff43-ab98-4838-984e-7c20e0ec89d9"
      },
      "execution_count": null,
      "outputs": [
        {
          "output_type": "display_data",
          "data": {
            "text/plain": "<Figure size 500x1000 with 2 Axes>",
            "image/png": "[encoded data removed]"
          },
          "metadata": {}
        }
      ]
    },
    {
      "cell_type": "code",
      "source": [
        "# show model performance after training\n",
        "\n",
        "print(f'Test accuracy after model training {model.evaluate(test_set)[1]}')"
      ],
      "metadata": {
        "execution": {
          "iopub.status.busy": "2023-10-26T09:11:21.134515Z",
          "iopub.execute_input": "2023-10-26T09:11:21.134819Z",
          "iopub.status.idle": "2023-10-26T09:11:21.167072Z",
          "shell.execute_reply.started": "2023-10-26T09:11:21.134781Z",
          "shell.execute_reply": "2023-10-26T09:11:21.166062Z"
        },
        "trusted": true,
        "id": "qoIBNmXzTxcX",
        "outputId": "5152374d-07c9-4aac-8a85-ee52d795cc8d"
      },
      "execution_count": null,
      "outputs": [
        {
          "name": "stdout",
          "text": "1/1 [==============================] - 0s 22ms/step - loss: 0.6858 - accuracy: 0.8281\nTest accuracy after model training 0.828125\n",
          "output_type": "stream"
        }
      ]
    },
    {
      "cell_type": "code",
      "source": [
        "# compare true label of a randomly selected text from the dataset to the predcited label\n",
        "\n",
        "random_idx = np.random.choice(main_df.shape[0])\n",
        "sample_input = main_df[['Findings']].values[random_idx]\n",
        "sample_output = main_df['Determination'].values[random_idx]\n",
        "\n",
        "v, n = get_predictions(sample_input, sample_output)\n",
        "print(f'Predicted output is {v} and True label is {n}')"
      ],
      "metadata": {
        "execution": {
          "iopub.status.busy": "2023-10-26T09:11:21.168342Z",
          "iopub.execute_input": "2023-10-26T09:11:21.169079Z",
          "iopub.status.idle": "2023-10-26T09:11:23.738191Z",
          "shell.execute_reply.started": "2023-10-26T09:11:21.169042Z",
          "shell.execute_reply": "2023-10-26T09:11:23.737192Z"
        },
        "trusted": true,
        "id": "ohORfbwCTxcX",
        "outputId": "dc6b5c77-8763-4731-94ea-b5c3f7d5f18d"
      },
      "execution_count": null,
      "outputs": [
        {
          "name": "stdout",
          "text": "1/1 [==============================] - 3s 3s/step\nPredicted output is 1 and True label is 1\n",
          "output_type": "stream"
        }
      ]
    }
  ]
}